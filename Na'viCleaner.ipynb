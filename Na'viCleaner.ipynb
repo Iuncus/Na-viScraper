{
 "cells": [
  {
   "cell_type": "code",
   "execution_count": 7,
   "metadata": {},
   "outputs": [
    {
     "name": "stdout",
     "output_type": "stream",
     "text": [
      "\n",
      "Ta Ronsem Prrtonä nì'Aw (slä oel fpìl ayral sìltsan nìtam fpi tìplltxe letìftia lìfyayä).   tstxolì'u = noun     - nì'aw'tu = intransitive     - nìkem = ergative     - nì'ekotu = accusative     - nìspe'e = genetive     - nìtìngtu fu nìtel = dative     - nìeyk = topic     - (nìspe'etu = modified by another noun in the genitive)   kemlì'u = verb       tìlatemìsokx = verbal conjugation/infixing   lì'u kìte'e'uyä = adjective   lì'u kìte'e'kemä = adverb   'itlì' = particle   lì'u leler = conjunction (ta<<<lertu)   lì'rina' = root   tìlatem pamä = lenition   tillì' (pl. sillì') = morphemic boundary   pamlafya = allomorph   tìsngä'i lì'uyä = etymology/derivation   (ta<<<_____) = back derived from ______ (za'u mipa lì'u'ìm nì'awve hrr a fkol tsive'a tsalì'uti nìmip)   lì'olo = sentence   lì'u 'uyä lesa'nu = primary noun (modified by a dependent clause)     - 'ite 'uyä = dependent clause   lì'u kemä lesempu = main verb in a multi-verb construct (tKNg: NEW zivong)     - lì'u kemä le'itan = subo\n",
      "1520260\n"
     ]
    }
   ],
   "source": [
    "import re\n",
    "\n",
    "\n",
    "data = open('navi_post.csv', 'r').read()\n",
    "# data_test = data.split(\"\\n\")\n",
    "\n",
    "print(data[:1000])\n",
    "print(len(data))\n",
    "\n",
    "# for i in data:"
   ]
  },
  {
   "cell_type": "code",
   "execution_count": 8,
   "metadata": {},
   "outputs": [
    {
     "name": "stdout",
     "output_type": "stream",
     "text": [
      "\n",
      "Ta Ronsem Prrtonä nì'Aw slä oel fpìl ayral sìltsan nìtam fpi tìplltxe letìftia lìfyayä.   tstxolì'u  noun      nì'aw'tu  intransitive      nìkem  ergative      nì'ekotu  accusative      nìspe'e  genetive      nìtìngtu fu nìtel  dative      nìeyk  topic      nìspe'etu  modified by another noun in the genitive   kemlì'u  verb       tìlatemìsokx  verbal conjugationinfixing   lì'u kìte'e'uyä  adjective   lì'u kìte'e'kemä  adverb   'itlì'  particle   lì'u leler  conjunction ta<<<lertu   lì'rina'  root   tìlatem pamä  lenition   tillì' pl. sillì'  morphemic boundary   pamlafya  allomorph   tìsngä'i lì'uyä  etymologyderivation   ta<<<  back derived from  za'u mipa lì'u'ìm nì'awve hrr a fkol tsive'a tsalì'uti nìmip   lì'olo  sentence   lì'u 'uyä lesa'nu  primary noun modified by a dependent clause      'ite 'uyä  dependent clause   lì'u kemä lesempu  main verb in a multiverb construct tKNg: NEW zivong      lì'u kemä le'itan  suboridinate verb in a multiverb construct tKNg: new ZivONG   lì'uke\n",
      "1512017\n"
     ]
    }
   ],
   "source": [
    "stem_rule = \"[\\\\\\/\\_\\-\\+\\=\\[\\]\\{\\}\\(\\)]\"\n",
    "data = re.sub(stem_rule, \"\", data)\n",
    "print(data[:1000])\n",
    "print(len(data))"
   ]
  },
  {
   "cell_type": "code",
   "execution_count": 9,
   "metadata": {},
   "outputs": [
    {
     "name": "stdout",
     "output_type": "stream",
     "text": [
      "245036\n"
     ]
    }
   ],
   "source": [
    "data = data.split()\n",
    "print(len(data))"
   ]
  },
  {
   "cell_type": "code",
   "execution_count": 10,
   "metadata": {},
   "outputs": [
    {
     "name": "stdout",
     "output_type": "stream",
     "text": [
      "['Ta', 'Ronsem', 'Prrtonä', \"nì'Aw\", 'slä', 'oel', 'fpìl', 'ayral', 'sìltsan', 'nìtam', 'fpi', 'tìplltxe', 'letìftia', 'lìfyayä.', \"tstxolì'u\", 'noun', \"nì'aw'tu\", 'intransitive', 'nìkem', 'ergative', \"nì'ekotu\", \"nìspe'e\", 'genetive', 'nìtìngtu', 'fu', 'nìtel', 'nìeyk', \"nìspe'etu\", 'another', 'noun', 'in', 'the', 'genitive', \"kemlì'u\", 'tìlatemìsokx', \"lì'u\", \"kìte'e'uyä\", \"lì'u\", \"kìte'e'kemä\", \"'itlì'\", \"lì'u\", 'leler', \"lì'rina'\", 'root', 'tìlatem', 'pamä', 'lenition', \"tillì'\", 'pl.', \"sillì'\", 'pamlafya', 'allomorph', \"tìsngä'i\", \"lì'uyä\", 'from', \"za'u\", 'mipa', \"lì'u'ìm\", \"nì'awve\", 'hrr', 'a', 'fkol', \"tsive'a\", \"tsalì'uti\", 'nìmip', \"lì'olo\", \"lì'u\", \"'uyä\", \"lesa'nu\", 'primary', 'noun', 'a', \"'ite\", \"'uyä\", \"lì'u\", 'kemä', 'lesempu', 'main', 'in', 'a', 'NEW', 'zivong', \"lì'u\", 'kemä', \"le'itan\", 'in', 'a', 'new', 'ZivONG', \"lì'ukewong\", 'foreign', 'Any', \"nonNa'vi\", 'Must', 'mark', 'with', 'on', 'initial', 'use.', \"'upsì\", \"Aylì'u\", \"leNa'vi\", 'a', 'mì', 'fìtseng', 'plltxe', 'kìng', \"lelì'u\", 'kìng', 'of', 'plltxetseng', 'forum', \"'awpam\", 'Ulte,', 'txo', 'new', 'skxaypxe', 'skype', \"olo'plltxe\", 'teamspeak', \"ay'arsi\", 'tawtute', \"'upxare\", 'skyperson', 'message', 'PM', 'or', 'emailLamatem', 'san', \"ay'r'si\", 'sìk', 'ne', 'san', \"ay'arsi\", 'sik', \"fìlì'u\", 'tusamung', 'ke', 'lu.', 'Po', 'zene', 'livu', 'Po', 'tsun', 'tivok,', 'na', 'Po', 'ler', 'hu', \"le'itlì'ua\", \"horen.'itlì'u\", 'Irayo,', \"'Itlì'u\", 'sìlstana', \"lì'u\", 'lu!', 'Slä', 'ke', 'tsun', 'tivok', 'kop.', 'San', \"rr'\", 'sìk', 'san', \"'si\", 'sìk', 'ke', 'lu', 'muiä', 'nìteng.', 'Keyl', 'Irayo,', 'slä', 'kehe.', 'Po', 'ler.', 'san', \"'\", 'sìk', \"tskxe'it\", 'lu,', 'ulte', 'san', 'rr', 'sìk', \"pay'it\", 'lu,', 'ha', 'san', \"ay.'rr'.si\", 'sìk', 'mì', 'horen', \"le'itlì'u\", 'tok.', 'Ke', 'ftue', 'pivlltxe', 'lu,', 'slä', 'muiä', 'mì', \"Na'vi\", 'horen', \"lepam.tskxe'it\", 'vowel', \"lelì'u\", 'tìng', 'nari,', 'rutxe.ta', 'Keyl', \"'itlì'u.ri\", 'kxawm', 'ke', 'nìalìm', 'tok', 'ta', \"'itlì'\", \"Tsalì'u\", 'nìÌnglìsì', 'menga', 'fpìl', 'fyape', \"'awpam\", '?', 'Mìmikyun', 'sì', 'eltu', 'oeyä', 'fìralìri', 'nìmuiä', 'leram.', \"ay'ar'si\", 'lu', 'muiä', 'srak?', 'Oeri', \"ay'ar'si\", 'swey', 'leiu.', 'Oe', 'kameie!', 'Fo', \"nì'aw\", 'mì', 'tawkerame', \"ay'itlì'u\", 'tok.', 'Hmm.', \"ay'ra'si?'awpam\", 'to', \"'itlì'u\", 'sìltsan', 'lu.', 'Layatem.', \"ay'ar'si\", 'ke', 'ler.', 'san', \"'s\", 'sìk', 'kawng', 'lu.', 'tawkerame', 'open', 'pam', 'letskxe', '?pam', 'lepay', 'vowel', '?itronsem', \"'itronsem\", \"ay'itronsem\", 'itronsem', \"ni'aw.\", \"Fra'u\", 'smuk', 'nìpam', 'ke', 'lu', 'srak?', \"ay'ar'asi?\", 'Pelun', 'ke', 'lu', 'san', 'kxampam', 'sìk', 'a', 'ral', 'si', \"nì'ìnglìsì\", 'san', 'vowel', 'sìk?', \"Fì'u\", \"lì'u\", 'lu', \"hì'i\", \"nì'ul\", 'ulte', 'tìng', 'ralit', 'sìltsan...', \"Ho'!\", 'Ma', 'Taronyu,', 'nga', 'perlltxe', 'nìmuiä.', 'ke', 'sìltsan', 'lu', 'ta', 'tsapam', 'kip', \"ar'si\", 'Oeru', 'txoa', 'livu.Slä', 'fìtxan', 'sìltsan', 'ke', 'lu', 'srak?', 'Frakrr', 'A', 'Ä', 'E', 'I', 'Ì', 'O', 'U', 'AY', 'AW', 'EY', 'nìlahe', 'ke', 'tok', 'mìkamtseng', 'pamä', 'letskxe', \"nì'aw...\", 'Ke', 'ngay', 'srak?', 'Fa', \"lì'fya\", 'niNihon', 'fayu', 'san', \"sa'nokpam\", 'sìk', 'sì', 'san', \"'evipam\", 'sìk', 'lu', 'kop.', 'Fpi', 'tìplltxe', 'fayuyä,', \"aylì'fyamì\", 'aylaheyä', \"fya'o\", 'atxan', 'tok,', 'oe', 'fpìl.Peu', 'muiä', 'frato', 'lu?', 'Awnga', 'zene', 'ftxivey', 'fu', 'pivey', 'ta', 'Karyu', 'Frommer.ta', 'Keyl', \"Tsap'alute,\", 'oeyä', 'kawng', \"nìNa'viyä\", 'plltxe,', 'oer', 'txoa', 'livu.', 'Kem', \"nìNa'vi\", 'fpi', 'tstxo', \"'itlì'uyä\", 'san', 'onset', 'sìk', 'sì', 'san', 'sìk', 'sì', 'san', 'sìk', 'sì', 'san', 'null', 'sìk', 'lìyevu?', \"nìNa'vi\", 'tstxo', \"'itlì'uyä\", 'tsun', 'livu', \"sngä'ipam\", 'letskxe', 'sì', 'kxampam', 'lepay', 'a,', 'ä,', 'e,', 'i,', 'ì,', 'o,', 'u', 'fu', 'lekll', 'll,', 'rr', 'sì', 'kxetsepam', 'letskxe', 'sì', 'kea', 'pam', 'fkor', 'law', 'livu', 'nìtam,', 'srak?', 'Srane,', 'flä', \"fìlì'ul\", 'law', 'lolu.', 'Oe', 'nìnume', 'livu,', 'Irayo', 'ma', 'Prrton.', 'Kxawm', 'zene', 'fko', 'leykatem', \"aylì'ut\", 'a', 'san', \"lì'u\", \"'uyä\", 'sìk', 'sì', 'san', \"lì'u\", 'kemä', 'sìk', 'Pelun', 'ke', 'ponguplltxe', 'groupspeak', '?', 'ulte..San', \"lì'olo\", 'sik', 'nìngay', 'hiyìk', \"li'u\", 'lu.', 'Slä', 'pelun', 'ke', 'sar', 'ayoeng', 'san', \"li'pongu\", 'sik', '?Ulte', 'limu', \"ayli'u\", 'a', 'oe', 'lu', 'ral', 'ta', 'san', 'tusamung', 'sik', '?Ulte', \"pe'u\", 'lu', 'san', 'ler', 'sik', 'si', 'san', 'leykatem', 'sik', '?Irayo.', 'mì', 'hapxì', 'leToìtse', 'lamu', 'awngar', 'säfpìl', 'sivar', 'fu', 'fpìl', 'futa', 'lu', 'hufwa', 'oel', 'ke', 'tslam', 'tseyä', 'ralit', 'nìtengkxawm', \"za'u\", 'ta', 'lu', 'lu', \"'upe\", 'slä', 'peu', 'luke', \"'\", \"Tsa'u\", 'lu', 'siltsana', 'säfpìl', 'nìteng.Irayo,', 'lu', 'eyawr.Slä', 'set', 'oe', 'pelun', 'lu', 'si', 'ulte', 'ke', 'lu', 'si', '?', 'Ayhapxì', \"li'uyä\", 'si', 'latem', 'pamti', 'nìteng,', 'mì', 'si', 'aylahe..Ta', 'peseng', \"za'u\", \"li'u\", 'san', 'luke', 'sik?', \"leNa'via\", 'ralpengyu', 'oeru', 'pimeng', 'ralit,', 'slä', 'oe', 'kerun', 'poti', 'mì', 'Taronyuyä', \"ayli'u.\", \"za'u\", 'ta', 'fìtsengeulte,', \"nìtsawne'a\", 'fa', 'tìkenong', 'FÌtsenge,', 'fìhapxìl', \"lì'uä\", 'ke', 'leykatem', \"lì'ut\", 'anusong', 'woah!!!', 'ummm,', 'Irayo', 'livu', 'Plumps,', 'taweyk', 'pol', 'wolìntxu', 'oer', 'fìkìngit.Oeyä', 'aysäfpìl', 'fìtxeleri,', \"aylì'uo\", 'lu', 'na', 'prrtonä', \"aylì'u,\", \"laylì'u\", 'latem', \"nì'it\", 'fu', \"nountxelelì'upxì\", 'kxawm', \"pesurilì'upxìkemsiyulì'upxì\", 'ergativemarker,', 'kxawm', \"pesullì'upxì'ukemlì'upxì\", 'kxawm', \"pesutlì'upxìkemsitulì'upxì\", 'kxawm', \"pesurlì'upxìpesuälì'upxì\", \"genitivemarkerkemlì'u\", \"infixtilfyakemlì'u\", 'in', 'with', 'other', 'kemsiyu', 'transitivetransitivityleyäna', 'kemsiyu', \"intransitiveintransitivitylì'ukìng\", \"'awsiteng\", \"lì'ufya'olì'u\", \"'awvea\", 'säfpìl', 'lolu', \"eolì'ulì'it\", 'negation,', 'kxawm', 'säke?tìkenong', \"examplelì'ukewong\", 'foreign', 'with', 'part', 'of', 'a', 'means', 'everything', 'like', 'markers,', 'infixes', 'so', \"onlì'ungek\", 'root', \"lì'u\", 'tangek,', 'kxawm', \"lì'ungrrpam'ango\", \"lenitionlì'ulafya\", \"allomorphpamlì'upxì\", 'plural', \"'awvea\", 'säfpil', 'lolu', \"nì'ullofya,\", 'kxawm', 'aylofya', 'fu', \"txanlofya?'awlofya\", 'singularmelofya', 'plural', 'plural', 'tripleTeri', \"Lamtìnglì'u\", 'fu', \"kenonglì'u\", 'kxawm?Teri', 'pamsitupxì', 'fu', \"txa'pampxì?Teri\", 'pamsiyupxì', 'fu', \"'angopampxì?Peut\", 'fpìl', 'ayngal', 'teri', \"wälì'u\", 'oppositetìleykatem', 'mipa', \"lì'u\", 'a', 'kenong', 'san', 'negation', 'sìk.', 'New', 'oe', 'wivìntxu', 'frapor', \"aylì'ut\", 'a', 'oel', 'ngolop', 'srekrr.', \"Fì'u\", 'lu', \"nì'aw\", 'säfpìl', 'oeyä', 'ulte', 'ke', 'lu', 'skepeka', \"aylì'u\", 'ta', 'Pawl,', 'rutxe', 'eltu', 'si', \"fì'ur.\", 'Nìngay', \"ay'uot\", 'takip', \"faylì'u\", 'oel', 'srekrr', 'pameng,', 'ngian', 'new', 'sivung', 'sat', 'mì', 'pukäweptsengvi', \"weptsengämungwrr'u\", 'ngolop', 'na', 'san', 'srekrr', 'sìkpamrelvi', 'Kaltxì', 'ma', 'Kemaweyan.Oe', 'mllte', 'ngahu', 'stum', 'nìwotx.', \"Nì'aw\", 'teri', 'san', \"mungwrr'u\", 'sìk', 'oel', 'fpìl', 'futa', 'kxawm', 'tsaw', 'tsun', 'livu', 'san', 'sämungwrr', 'sìk,', 'taweyk', \"tì'efumì\", 'oeyä', 'tsaw', 'ke', 'nìngay', 'lu', \"'u.\", 'Srane,', 'oeng', 'pamängkxo', \"fì'uteri.\", 'Tsakrrmaw', 'oel', 'wamìntxu', \"tsamelì'ut\", 'ayeylanur', 'oeyä', 'ulte', 'fol', 'ftxoley', \"lì'ut\", 'san', \"mungwrr'u\", 'sìk.', 'Ulte', 'oer', 'kop', \"fìlì'u\", 'mowan', 'lu', \"nì'ul\", 'Oeyä', 'aysäfpìlä', \"fya'ori\", 'new', 'oe', 'oeyktivìng', 'ngar.', 'Txo', 'san', 'mungwrr', 'sìk', 'livu', \"kemlì'u\", 'oe', 'nìngay', 'mivlltxe', 'ngahu', 'nìwotx.', 'Slä', 'lam', 'oer', 'tsaw', 'hiyìk', \"nì'it,\", 'txo', 'sivar', 'fkol', 'san', 'sä', 'sìk', \"tsalì'uhu\", 'nìngay...', 'Oe', 'fpamìl', 'tengfya', 'na', \"lì'uhu\", 'san', 'srekrr', 'sìk.', 'Nìngay', 'tsaw', 'lu', 'krr,', 'kefyak?', 'Krr', 'a', 'lamu', 'fìkrrsre.', 'Ha', 'fko', 'nìftue', 'solung', 'san', 'sre', 'sìk', 'ne', 'krr', 'ulte', 'tsafya', 'lu', 'san', 'srekrr.', 'Ulte', 'oel', 'fìkem', 'soli', 'lu', \"'u,\", 'kefyak?', 'Ngian', \"fì'u\", 'lu', \"'uo\", 'a', 'mungwrr', 'tsaw', 'fko', 'kem', 'sivi.', 'Ulte', 'fìlunta', 'oe', 'nìftue', 'solung', 'san', 'mungwrr', 'sìk', 'ne', \"'u\", 'the', 'livu', 'san', \"mungwrr'u.\", 'Fpìl', 'oel', 'futa', 'ke', 'tsun', 'fko', 'pivlltxe', 'san', 'sämungwrr', 'sìk,', 'talun', 'ke', 'lu', 'fìtsenge', 'kea', 'kem.', 'Ke', 'omum', 'oel', \"aylì'uot\", 'a', 'tengfya', 'ngolop', 'fkol', 'luke', 'kemo.', 'Oeru', 'txoa', 'livu', 'fwa', 'oe', 'pamrel', 'si', 'fìtsengeru,', 'slä', 'lu', 'oeru', 'säfpìl', 'teri', 'krrä', \"ayhemlì'u.krrä\", 'ayrenu', 'tenseFìsäfpìl', 'asìltsan?', 'Lam', 'oeru', 'fwa', 'suteol', 'ke', 'omum', 'futa', 'fìpxeseng', \"nìNa'vi\", \"nì'aw\", \"'Ìnglìsì\", 'ke', 'lu', 'kxanìPamtseo', \"nìNa'vi\", \"Nì'aw\", \"'Ìnglìsì\", 'ke', 'lu', \"kxanìnìNa'vi\", \"'Ìnglìsì\", 'ke', 'lu', 'kxanì', 'ulte', 'tsatseng', 'lu', 'fpi', \"aysngä'iyuTsapxeseng\", 'tsun', 'nga', 'rivun', 'ayvurit,', 'ayway,', 'aysìrol,', 'sì', 'ayu', 'alahe.', 'Lun', 'a', 'ke', 'tok', \"mesa'ul\", 'fìtseng', 'alu', \"nìNa'vi\", \"nì'aw\", 'lu', 'talun', 'ke', 'lu', 'kxanì', 'fwa', 'plltxe', \"nì'Ìnglìsì\", 'fte', 'tìkangkemteri', 'pivängkxo.', 'Oe', 'ke', 'new', \"'ivärìp\", 'mesat', 'ki', 'fraporu', 'piveng.Txo', 'ngop']\n",
      "231534\n"
     ]
    }
   ],
   "source": [
    "\n",
    "navi_alphabet = re.compile(\"[^aäefhiìklmngoprstuvwyzx\\'\\,\\.\\?\\!]\", re.IGNORECASE)\n",
    "match_list = []\n",
    "\n",
    "for i in range(len(data)):\n",
    "    if navi_alphabet.search(data[i]):\n",
    "        match_list.append(0)\n",
    "    else: \n",
    "        match_list.append(1)\n",
    "\n",
    "# for i in reversed(range(len(data))):\n",
    "#     if navi_alphabet.search(data[i]):\n",
    "#         data.pop(i)\n",
    "\n",
    "# for i in reversed(range(len(data))):\n",
    "#     if bool(navi_alphabet.match(data[i])):\n",
    "#         data.pop(i)\n",
    "\n",
    "# for i, word in reversed(list(enumerate(data))):\n",
    "#     if bool(navi_alphabet.match(word)):\n",
    "#         data.pop(i)\n",
    "\n",
    "# for word in data:\n",
    "#     if bool(navi_alphabet.match(word)):\n",
    "#         data.remove(word)\n",
    "    \n",
    "print(data[:1000])\n",
    "print(len(data))\n",
    "\n",
    "\n",
    "# reversed len 237314, 0.3s\n",
    "# reversed list 118634, 0.1s\n",
    "# for word 238343, 13.0s\n",
    "# ?????"
   ]
  },
  {
   "cell_type": "code",
   "execution_count": 11,
   "metadata": {},
   "outputs": [
    {
     "name": "stderr",
     "output_type": "stream",
     "text": [
      "[nltk_data] Downloading package words to\n",
      "[nltk_data]     C:\\Users\\stere\\AppData\\Roaming\\nltk_data...\n",
      "[nltk_data]   Package words is already up-to-date!\n"
     ]
    },
    {
     "name": "stdout",
     "output_type": "stream",
     "text": [
      "['Ta', 'Ronsem', 'Prrtonä', \"nì'Aw\", 'slä', 'oel', 'fpìl', 'ayral', 'sìltsan', 'nìtam', 'fpi', 'tìplltxe', 'letìftia', 'lìfyayä.', \"tstxolì'u\", \"nì'aw'tu\", 'nìkem', 'ergative', \"nì'ekotu\", \"nìspe'e\", 'genetive', 'nìtìngtu', 'nìtel', 'nìeyk', \"nìspe'etu\", \"kemlì'u\", 'tìlatemìsokx', \"lì'u\", \"kìte'e'uyä\", \"lì'u\", \"kìte'e'kemä\", \"'itlì'\", \"lì'u\", 'leler', \"lì'rina'\", 'tìlatem', 'pamä', 'lenition', \"tillì'\", 'pl.', \"sillì'\", 'pamlafya', \"tìsngä'i\", \"lì'uyä\", \"za'u\", 'mipa', \"lì'u'ìm\", \"nì'awve\", 'hrr', 'fkol', \"tsive'a\", \"tsalì'uti\", 'nìmip', \"lì'olo\", \"lì'u\", \"'uyä\", \"lesa'nu\", \"'ite\", \"'uyä\", \"lì'u\", 'kemä', 'lesempu', 'NEW', 'zivong', \"lì'u\", 'kemä', \"le'itan\", 'ZivONG', \"lì'ukewong\", 'Any', \"nonNa'vi\", 'Must', 'use.', \"'upsì\", \"Aylì'u\", \"leNa'vi\", 'mì', 'fìtseng', 'plltxe', 'kìng', \"lelì'u\", 'kìng', 'plltxetseng', \"'awpam\", 'Ulte,', 'txo', 'skxaypxe', 'skype', \"olo'plltxe\", 'teamspeak', \"ay'arsi\", 'tawtute', \"'upxare\", 'skyperson', 'PM', 'emailLamatem', \"ay'r'si\", 'sìk', \"ay'arsi\", 'sik', \"fìlì'u\", 'tusamung', 'ke', 'lu.', 'zene', 'livu', 'tivok,', 'ler', 'hu', \"le'itlì'ua\", \"horen.'itlì'u\", 'Irayo,', \"'Itlì'u\", 'sìlstana', \"lì'u\", 'lu!', 'Slä', 'ke', 'tivok', 'kop.', \"rr'\", 'sìk', \"'si\", 'sìk', 'ke', 'lu', 'muiä', 'nìteng.', 'Keyl', 'Irayo,', 'slä', 'kehe.', 'ler.', \"'\", 'sìk', \"tskxe'it\", 'lu,', 'ulte', 'rr', 'sìk', \"pay'it\", 'lu,', \"ay.'rr'.si\", 'sìk', 'mì', 'horen', \"le'itlì'u\", 'tok.', 'Ke', 'ftue', 'pivlltxe', 'lu,', 'slä', 'muiä', 'mì', \"Na'vi\", 'horen', \"lepam.tskxe'it\", \"lelì'u\", 'tìng', 'nari,', 'rutxe.ta', 'Keyl', \"'itlì'u.ri\", 'kxawm', 'ke', 'nìalìm', 'tok', \"'itlì'\", \"Tsalì'u\", 'nìÌnglìsì', 'menga', 'fpìl', 'fyape', \"'awpam\", '?', 'Mìmikyun', 'sì', 'eltu', 'oeyä', 'fìralìri', 'nìmuiä', 'leram.', \"ay'ar'si\", 'lu', 'muiä', 'srak?', 'Oeri', \"ay'ar'si\", 'swey', 'leiu.', 'Oe', 'kameie!', \"nì'aw\", 'mì', 'tawkerame', \"ay'itlì'u\", 'tok.', 'Hmm.', \"ay'ra'si?'awpam\", \"'itlì'u\", 'sìltsan', 'lu.', 'Layatem.', \"ay'ar'si\", 'ke', 'ler.', \"'s\", 'sìk', 'kawng', 'lu.', 'tawkerame', 'letskxe', '?pam', 'lepay', '?itronsem', \"'itronsem\", \"ay'itronsem\", 'itronsem', \"ni'aw.\", \"Fra'u\", 'smuk', 'nìpam', 'ke', 'lu', 'srak?', \"ay'ar'asi?\", 'Pelun', 'ke', 'lu', 'kxampam', 'sìk', 'ral', \"nì'ìnglìsì\", 'sìk?', \"Fì'u\", \"lì'u\", 'lu', \"hì'i\", \"nì'ul\", 'ulte', 'tìng', 'ralit', 'sìltsan...', \"Ho'!\", 'Taronyu,', 'nga', 'perlltxe', 'nìmuiä.', 'ke', 'sìltsan', 'lu', 'tsapam', \"ar'si\", 'Oeru', 'txoa', 'livu.Slä', 'fìtxan', 'sìltsan', 'ke', 'lu', 'srak?', 'Frakrr', 'Ä', 'Ì', 'AY', 'AW', 'EY', 'nìlahe', 'ke', 'tok', 'mìkamtseng', 'pamä', 'letskxe', \"nì'aw...\", 'Ke', 'ngay', 'srak?', 'Fa', \"lì'fya\", 'niNihon', 'fayu', \"sa'nokpam\", 'sìk', 'sì', \"'evipam\", 'sìk', 'lu', 'kop.', 'Fpi', 'tìplltxe', 'fayuyä,', \"aylì'fyamì\", 'aylaheyä', \"fya'o\", 'atxan', 'tok,', 'fpìl.Peu', 'muiä', 'frato', 'lu?', 'Awnga', 'zene', 'ftxivey', 'pivey', 'Karyu', 'Frommer.ta', 'Keyl', \"Tsap'alute,\", 'oeyä', 'kawng', \"nìNa'viyä\", 'plltxe,', 'txoa', 'livu.', 'Kem', \"nìNa'vi\", 'fpi', 'tstxo', \"'itlì'uyä\", 'sìk', 'sì', 'sìk', 'sì', 'sìk', 'sì', 'sìk', 'lìyevu?', \"nìNa'vi\", 'tstxo', \"'itlì'uyä\", 'livu', \"sngä'ipam\", 'letskxe', 'sì', 'kxampam', 'lepay', 'a,', 'ä,', 'e,', 'i,', 'ì,', 'o,', 'lekll', 'll,', 'rr', 'sì', 'kxetsepam', 'letskxe', 'sì', 'fkor', 'livu', 'nìtam,', 'srak?', 'Srane,', 'flä', \"fìlì'ul\", 'lolu.', 'Oe', 'nìnume', 'livu,', 'Irayo', 'Prrton.', 'Kxawm', 'zene', 'fko', 'leykatem', \"aylì'ut\", \"lì'u\", \"'uyä\", 'sìk', 'sì', \"lì'u\", 'kemä', 'sìk', 'Pelun', 'ke', 'ponguplltxe', 'groupspeak', '?', 'ulte..San', \"lì'olo\", 'sik', 'nìngay', 'hiyìk', \"li'u\", 'lu.', 'Slä', 'pelun', 'ke', 'ayoeng', \"li'pongu\", 'sik', '?Ulte', \"ayli'u\", 'lu', 'ral', 'tusamung', 'sik', '?Ulte', \"pe'u\", 'lu', 'ler', 'sik', 'leykatem', 'sik', '?Irayo.', 'mì', 'hapxì', 'leToìtse', 'lamu', 'awngar', 'säfpìl', 'sivar', 'fpìl', 'futa', 'lu', 'hufwa', 'oel', 'ke', 'tslam', 'tseyä', 'ralit', 'nìtengkxawm', \"za'u\", 'lu', 'lu', \"'upe\", 'slä', 'peu', \"'\", \"Tsa'u\", 'lu', 'siltsana', 'säfpìl', 'nìteng.Irayo,', 'lu', 'eyawr.Slä', 'pelun', 'lu', 'ulte', 'ke', 'lu', '?', 'Ayhapxì', \"li'uyä\", 'latem', 'pamti', 'nìteng,', 'mì', 'aylahe..Ta', 'peseng', \"za'u\", \"li'u\", 'sik?', \"leNa'via\", 'ralpengyu', 'oeru', 'pimeng', 'ralit,', 'slä', 'kerun', 'poti', 'mì', 'Taronyuyä', \"ayli'u.\", \"za'u\", 'fìtsengeulte,', \"nìtsawne'a\", 'tìkenong', 'FÌtsenge,', 'fìhapxìl', \"lì'uä\", 'ke', 'leykatem', \"lì'ut\", 'anusong', 'woah!!!', 'ummm,', 'Irayo', 'livu', 'Plumps,', 'taweyk', 'wolìntxu', 'fìkìngit.Oeyä', 'aysäfpìl', 'fìtxeleri,', \"aylì'uo\", 'lu', 'prrtonä', \"aylì'u,\", \"laylì'u\", 'latem', \"nì'it\", \"nountxelelì'upxì\", 'kxawm', \"pesurilì'upxìkemsiyulì'upxì\", 'ergativemarker,', 'kxawm', \"pesullì'upxì'ukemlì'upxì\", 'kxawm', \"pesutlì'upxìkemsitulì'upxì\", 'kxawm', \"pesurlì'upxìpesuälì'upxì\", \"genitivemarkerkemlì'u\", \"infixtilfyakemlì'u\", 'kemsiyu', 'transitivetransitivityleyäna', 'kemsiyu', \"intransitiveintransitivitylì'ukìng\", \"'awsiteng\", \"lì'ufya'olì'u\", \"'awvea\", 'säfpìl', 'lolu', \"eolì'ulì'it\", 'negation,', 'kxawm', 'säke?tìkenong', \"examplelì'ukewong\", 'means', 'markers,', 'infixes', \"onlì'ungek\", \"lì'u\", 'tangek,', 'kxawm', \"lì'ungrrpam'ango\", \"lenitionlì'ulafya\", \"allomorphpamlì'upxì\", \"'awvea\", 'säfpil', 'lolu', \"nì'ullofya,\", 'kxawm', 'aylofya', \"txanlofya?'awlofya\", 'singularmelofya', 'tripleTeri', \"Lamtìnglì'u\", \"kenonglì'u\", 'kxawm?Teri', 'pamsitupxì', \"txa'pampxì?Teri\", 'pamsiyupxì', \"'angopampxì?Peut\", 'fpìl', 'ayngal', 'teri', \"wälì'u\", 'oppositetìleykatem', 'mipa', \"lì'u\", 'kenong', 'sìk.', 'New', 'wivìntxu', 'frapor', \"aylì'ut\", 'oel', 'ngolop', 'srekrr.', \"Fì'u\", 'lu', \"nì'aw\", 'säfpìl', 'oeyä', 'ulte', 'ke', 'lu', 'skepeka', \"aylì'u\", 'Pawl,', 'rutxe', 'eltu', \"fì'ur.\", 'Nìngay', \"ay'uot\", 'takip', \"faylì'u\", 'oel', 'srekrr', 'pameng,', 'ngian', 'sivung', 'mì', 'pukäweptsengvi', \"weptsengämungwrr'u\", 'ngolop', 'srekrr', 'sìkpamrelvi', 'Kaltxì', 'Kemaweyan.Oe', 'mllte', 'ngahu', 'nìwotx.', \"Nì'aw\", 'teri', \"mungwrr'u\", 'sìk', 'oel', 'fpìl', 'futa', 'kxawm', 'tsaw', 'livu', 'sämungwrr', 'sìk,', 'taweyk', \"tì'efumì\", 'oeyä', 'tsaw', 'ke', 'nìngay', 'lu', \"'u.\", 'Srane,', 'oeng', 'pamängkxo', \"fì'uteri.\", 'Tsakrrmaw', 'oel', 'wamìntxu', \"tsamelì'ut\", 'ayeylanur', 'oeyä', 'ulte', 'fol', 'ftxoley', \"lì'ut\", \"mungwrr'u\", 'sìk.', 'Ulte', \"fìlì'u\", 'mowan', 'lu', \"nì'ul\", 'Oeyä', 'aysäfpìlä', \"fya'ori\", 'oeyktivìng', 'ngar.', 'Txo', 'mungwrr', 'sìk', 'livu', \"kemlì'u\", 'nìngay', 'mivlltxe', 'ngahu', 'nìwotx.', 'Slä', 'tsaw', 'hiyìk', \"nì'it,\", 'txo', 'sivar', 'fkol', 'sä', 'sìk', \"tsalì'uhu\", 'nìngay...', 'Oe', 'fpamìl', 'tengfya', \"lì'uhu\", 'srekrr', 'sìk.', 'Nìngay', 'tsaw', 'lu', 'krr,', 'kefyak?', 'Krr', 'lamu', 'fìkrrsre.', 'Ha', 'fko', 'nìftue', 'solung', 'sre', 'sìk', 'krr', 'ulte', 'tsafya', 'lu', 'srekrr.', 'Ulte', 'oel', 'fìkem', 'lu', \"'u,\", 'kefyak?', 'Ngian', \"fì'u\", 'lu', \"'uo\", 'mungwrr', 'tsaw', 'fko', 'kem', 'sivi.', 'Ulte', 'fìlunta', 'nìftue', 'solung', 'mungwrr', 'sìk', \"'u\", 'livu', \"mungwrr'u.\", 'Fpìl', 'oel', 'futa', 'ke', 'fko', 'pivlltxe', 'sämungwrr', 'sìk,', 'talun', 'ke', 'lu', 'fìtsenge', 'kem.', 'Ke', 'omum', 'oel', \"aylì'uot\", 'tengfya', 'ngolop', 'fkol', 'kemo.', 'Oeru', 'txoa', 'livu', 'fwa', 'pamrel', 'fìtsengeru,', 'slä', 'lu', 'oeru', 'säfpìl', 'teri', 'krrä', \"ayhemlì'u.krrä\", 'ayrenu', 'tenseFìsäfpìl', 'asìltsan?', 'Lam', 'oeru', 'fwa', 'suteol', 'ke', 'omum', 'futa', 'fìpxeseng', \"nìNa'vi\", \"nì'aw\", \"'Ìnglìsì\", 'ke', 'lu', 'kxanìPamtseo', \"nìNa'vi\", \"Nì'aw\", \"'Ìnglìsì\", 'ke', 'lu', \"kxanìnìNa'vi\", \"'Ìnglìsì\", 'ke', 'lu', 'kxanì', 'ulte', 'tsatseng', 'lu', 'fpi', \"aysngä'iyuTsapxeseng\", 'nga', 'rivun', 'ayvurit,', 'ayway,', 'aysìrol,', 'sì', 'alahe.', 'Lun', 'ke', 'tok', \"mesa'ul\", 'fìtseng', 'alu', \"nìNa'vi\", \"nì'aw\", 'lu', 'talun', 'ke', 'lu', 'kxanì', 'fwa', 'plltxe', \"nì'Ìnglìsì\", 'fte', 'tìkangkemteri', 'pivängkxo.', 'Oe', 'ke', \"'ivärìp\", 'mesat', 'ki', 'fraporu', 'piveng.Txo', 'ngop', 'ngal', 'vurit', 'tìrol,', 'rutxe', 'ziverok', 'futa', 'tsameseng', 'fkeytok', 'LAHEA', 'AYSENG', 'PLLTXE', 'FKO', \"nìNa'vi\", \"Na'vi\", 'tseng', 'leRuski', 'fko', 'pivlltxe', \"nìNa'viLearn\", \"Na'vi\", 'International', 'Multilingual', 'Plltxe', \"nìNa'vi\", \"Na'vi\", 'roomThe', 'Spam', \"Na'vi\", 'tseng', 'HRH!Learn', \"Na'vi\", 'Spam', 'Spam', \"Na'vi\", \"nìNa'vi\", 'ko!', \"Na'vi\", 'pamrel', \"nì'Inglìsì\", 'mì', 'Spoiler', \"nì'aw!Learn\", \"Na'vi\", 'Learn', \"Na'vi\", 'Pivängkxo', \"nìNa'vi\", 'ko!', \"Na'vi\", 'tseng', 'fko', 'pivlltxe', \"nìNa'vi\", 'mokri!Pängkxo', \"nìNa'vi\", 'mokri', 'ko!', \"Na'vi\", \"Na'vi\", 'Learn', \"Na'vi\", 'Pängkxo', \"nìNa'vi\", 'mokri', 'ko!', \"Na'vi\", 'fìpostìt', 'fte', 'zeykivo', 'aykeyeyti.', 'Kop,', 'zeykolo', 'oel', 'aysaheylut', 'weptsengä.', 'Tìtstewan', 'HRRRRHRHRH', 'Ngeyä', 'kemit', 'tsatsenge', \"tse'a\", 'oel!ftfy', 'Txonä', 'Rolyu', 'Peu.', 'tsaw', 'lu', \"fya'o\", 'tsari', 'pamrel', 'oe!', 'Fìkìng', 'lu', 'kxamtseng', 'fpi', 'sìnume.', 'Fìtsengìri', 'fkol', 'zivamunge', 'sìkenongit', 'senge', 'alahe', 'ulte', 'ätxäle', 'sivi', \"fralì'fya\", 'fkor', \"prrte'\", 'livu', 'nìprrte', 'fura', 'sute', 'fìpongu', 'srung', 'sivi', 'fte', 'fko', 'tslivam', 'nìswey.', \"Lì'fya\", 'ke', 'lu', \"leNa'vi\", 'fikìngìri', 'ke', 'kxanì', 'lu.', 'Ngian,', 'txo', 'fkol', 'fmivi', \"lì'fya\", \"leNa'vi\", 'pivawm,', 'rutxe,', 'Txo', 'lu', 'krrnivekx', 'fte', 'ralpiveng', \"fì'ut\", 'nìlìfya', 'alahe,', 'rutxe,', \"'upxaret\", 'Prrtonur', \"fpe'\", 'ulte', \"kllfro'\", 'fte', 'tsat', 'wivìntxu', 'mì', 'fitseng', \"'awsiteng\", 'hu', 'Ìnglìsì,', 'Toìtse,', 'Polskxi,', \"Fransey...Nì'ÌnglìsìSpoilerThis\", 'You', 'examples', 'folks', \"NonNa'vi\", 'languages', 'asking', 'using', \"Na'vi,\", 'please,', 'If', 'languages,', 'please,', 'Prrton', 'P.S.', 'fungiert', 'als', 'Lernzentrum.', 'kannst', 'hier', 'von', 'frei', 'fragen,', 'verstehen', 'zwar', 'als', \"Na'vi\", 'hier', 'Fragen', \"Na'vi\"]\n",
      "195704\n"
     ]
    }
   ],
   "source": [
    "import nltk\n",
    "nltk.download(\"words\")\n",
    "from nltk.corpus import words\n",
    "dictionary = words.words()\n",
    "for i in reversed(range(len(data))):\n",
    "    if data[i] in dictionary:\n",
    "        data.pop(i)\n",
    "\n",
    "\n",
    "print(data[:1000])\n",
    "print(len(data))\n",
    "  "
   ]
  },
  {
   "cell_type": "code",
   "execution_count": 6,
   "metadata": {},
   "outputs": [],
   "source": [
    "with open(\"cleaned_navi_post.csv\", \"w\", encoding=\"utf-8\") as myfile:\n",
    "    for i in data:\n",
    "        myfile.write(i)\n",
    "        myfile.write(\" \")\n",
    "        myfile.flush()\n"
   ]
  },
  {
   "cell_type": "markdown",
   "metadata": {},
   "source": [
    "https://stackoverflow.com/questions/500864/case-insensitive-regular-expression-without-re-compile"
   ]
  }
 ],
 "metadata": {
  "kernelspec": {
   "display_name": "nlp",
   "language": "python",
   "name": "python3"
  },
  "language_info": {
   "codemirror_mode": {
    "name": "ipython",
    "version": 3
   },
   "file_extension": ".py",
   "mimetype": "text/x-python",
   "name": "python",
   "nbconvert_exporter": "python",
   "pygments_lexer": "ipython3",
   "version": "3.9.18"
  }
 },
 "nbformat": 4,
 "nbformat_minor": 2
}
